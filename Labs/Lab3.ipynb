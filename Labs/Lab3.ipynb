{
 "cells": [
  {
   "cell_type": "raw",
   "metadata": {},
   "source": [
    "---\n",
    "title: Lab 3\n",
    "author: Will Kapner\n",
    "format:\n",
    "    html:\n",
    "        toc: true\n",
    "        code-fold: true\n",
    "output: html\n",
    "warning: false\n",
    "echo: true\n",
    "embed-resources: true\n",
    "---"
   ]
  },
  {
   "cell_type": "code",
   "execution_count": 1,
   "metadata": {
    "vscode": {
     "languageId": "python"
    }
   },
   "outputs": [
    {
     "data": {
      "text/html": [
       "<div>\n",
       "<style scoped>\n",
       "    .dataframe tbody tr th:only-of-type {\n",
       "        vertical-align: middle;\n",
       "    }\n",
       "\n",
       "    .dataframe tbody tr th {\n",
       "        vertical-align: top;\n",
       "    }\n",
       "\n",
       "    .dataframe thead th {\n",
       "        text-align: right;\n",
       "    }\n",
       "</style>\n",
       "<table border=\"1\" class=\"dataframe\">\n",
       "  <thead>\n",
       "    <tr style=\"text-align: right;\">\n",
       "      <th></th>\n",
       "      <th>Day</th>\n",
       "      <th>Day.in.Words</th>\n",
       "      <th>Gift.Item</th>\n",
       "      <th>Verb</th>\n",
       "      <th>Adjective</th>\n",
       "      <th>Location</th>\n",
       "    </tr>\n",
       "  </thead>\n",
       "  <tbody>\n",
       "    <tr>\n",
       "      <th>0</th>\n",
       "      <td>1</td>\n",
       "      <td>first</td>\n",
       "      <td>partridge</td>\n",
       "      <td>NaN</td>\n",
       "      <td>NaN</td>\n",
       "      <td>in a pear tree</td>\n",
       "    </tr>\n",
       "    <tr>\n",
       "      <th>1</th>\n",
       "      <td>2</td>\n",
       "      <td>second</td>\n",
       "      <td>dove</td>\n",
       "      <td>NaN</td>\n",
       "      <td>turtle</td>\n",
       "      <td>NaN</td>\n",
       "    </tr>\n",
       "    <tr>\n",
       "      <th>2</th>\n",
       "      <td>3</td>\n",
       "      <td>third</td>\n",
       "      <td>hen</td>\n",
       "      <td>NaN</td>\n",
       "      <td>french</td>\n",
       "      <td>NaN</td>\n",
       "    </tr>\n",
       "    <tr>\n",
       "      <th>3</th>\n",
       "      <td>4</td>\n",
       "      <td>fourth</td>\n",
       "      <td>bird</td>\n",
       "      <td>NaN</td>\n",
       "      <td>calling</td>\n",
       "      <td>NaN</td>\n",
       "    </tr>\n",
       "    <tr>\n",
       "      <th>4</th>\n",
       "      <td>5</td>\n",
       "      <td>fifth</td>\n",
       "      <td>ring</td>\n",
       "      <td>NaN</td>\n",
       "      <td>golden</td>\n",
       "      <td>NaN</td>\n",
       "    </tr>\n",
       "    <tr>\n",
       "      <th>5</th>\n",
       "      <td>6</td>\n",
       "      <td>sixth</td>\n",
       "      <td>goose</td>\n",
       "      <td>a-laying</td>\n",
       "      <td>NaN</td>\n",
       "      <td>NaN</td>\n",
       "    </tr>\n",
       "    <tr>\n",
       "      <th>6</th>\n",
       "      <td>7</td>\n",
       "      <td>seventh</td>\n",
       "      <td>swan</td>\n",
       "      <td>a-swimming</td>\n",
       "      <td>NaN</td>\n",
       "      <td>NaN</td>\n",
       "    </tr>\n",
       "    <tr>\n",
       "      <th>7</th>\n",
       "      <td>8</td>\n",
       "      <td>eighth</td>\n",
       "      <td>maid</td>\n",
       "      <td>a-milking</td>\n",
       "      <td>NaN</td>\n",
       "      <td>NaN</td>\n",
       "    </tr>\n",
       "    <tr>\n",
       "      <th>8</th>\n",
       "      <td>9</td>\n",
       "      <td>ninth</td>\n",
       "      <td>lady</td>\n",
       "      <td>dancing</td>\n",
       "      <td>NaN</td>\n",
       "      <td>NaN</td>\n",
       "    </tr>\n",
       "    <tr>\n",
       "      <th>9</th>\n",
       "      <td>10</td>\n",
       "      <td>tenth</td>\n",
       "      <td>lord</td>\n",
       "      <td>a-leaping</td>\n",
       "      <td>NaN</td>\n",
       "      <td>NaN</td>\n",
       "    </tr>\n",
       "    <tr>\n",
       "      <th>10</th>\n",
       "      <td>11</td>\n",
       "      <td>eleventh</td>\n",
       "      <td>piper</td>\n",
       "      <td>piping</td>\n",
       "      <td>NaN</td>\n",
       "      <td>NaN</td>\n",
       "    </tr>\n",
       "    <tr>\n",
       "      <th>11</th>\n",
       "      <td>12</td>\n",
       "      <td>twelfth</td>\n",
       "      <td>drummer</td>\n",
       "      <td>drumming</td>\n",
       "      <td>NaN</td>\n",
       "      <td>NaN</td>\n",
       "    </tr>\n",
       "  </tbody>\n",
       "</table>\n",
       "</div>"
      ],
      "text/plain": [
       "    Day Day.in.Words  Gift.Item        Verb Adjective        Location\n",
       "0     1        first  partridge         NaN       NaN  in a pear tree\n",
       "1     2       second       dove         NaN    turtle             NaN\n",
       "2     3        third        hen         NaN    french             NaN\n",
       "3     4       fourth       bird         NaN   calling             NaN\n",
       "4     5        fifth       ring         NaN    golden             NaN\n",
       "5     6        sixth      goose    a-laying       NaN             NaN\n",
       "6     7      seventh       swan  a-swimming       NaN             NaN\n",
       "7     8       eighth       maid   a-milking       NaN             NaN\n",
       "8     9        ninth       lady     dancing       NaN             NaN\n",
       "9    10        tenth       lord   a-leaping       NaN             NaN\n",
       "10   11     eleventh      piper      piping       NaN             NaN\n",
       "11   12      twelfth    drummer    drumming       NaN             NaN"
      ]
     },
     "execution_count": null,
     "metadata": {},
     "output_type": "execute_result"
    }
   ],
   "source": [
    "# Importing data\n",
    "import pandas as pd\n",
    "xmas = pd.read_csv(\"https://www.dropbox.com/scl/fi/qxaslqqp5p08i1650rpc4/xmas.csv?rlkey=erdxi7jbh7pqf9fh4lv4cayp5&dl=1\")\n",
    "xmas"
   ]
  },
  {
   "cell_type": "code",
   "execution_count": 10,
   "metadata": {
    "vscode": {
     "languageId": "python"
    }
   },
   "outputs": [
    {
     "data": {
      "text/plain": [
       "'myanies'"
      ]
     },
     "execution_count": null,
     "metadata": {},
     "output_type": "execute_result"
    }
   ],
   "source": [
    "# Pluralize gifts\n",
    "def pluralize_gift(gift):\n",
    "  \"\"\"\n",
    "  Returns plural of a noun\n",
    "  \n",
    "  Parameters\n",
    "  ----------\n",
    "  gift: str\n",
    "    A noun\n",
    "    \n",
    "  Return\n",
    "  ------\n",
    "  str\n",
    "    Plural version\n",
    "  \"\"\"\n",
    "\n",
    "  if 'oo' in gift:\n",
    "    gift = gift.replace(\"oo\", \"ee\")\n",
    "  elif gift[-1]=='y':\n",
    "    gift = gift[:-1] + 'ies'\n",
    "  else:\n",
    "    gift = gift + 's'\n",
    "\n",
    "  return gift\n",
    "\n",
    "# obj_1 = \"foot\"\n",
    "# obj_2 = \"baby\"\n",
    "# obj_3 = \"tree\"\n",
    "\n",
    "# obj_1.find(\"oo\")\n",
    "# obj_2[-1]\n",
    "# obj_3.find(\"oo\")\n",
    "\n",
    "# obj_1.replace(\"oo\", \"ee\")\n",
    "# obj_2.replace(\"y\", \"ies\")\n",
    "# obj_3 + \"s\"\n",
    "\n",
    "pluralize_gift('myany')"
   ]
  },
  {
   "cell_type": "code",
   "execution_count": 4,
   "metadata": {
    "vscode": {
     "languageId": "python"
    }
   },
   "outputs": [
    {
     "data": {
      "text/plain": [
       "True"
      ]
     },
     "execution_count": null,
     "metadata": {},
     "output_type": "execute_result"
    }
   ],
   "source": [
    "obj_1 = 'foot'\n",
    "'oo' in obj_1"
   ]
  },
  {
   "cell_type": "code",
   "execution_count": null,
   "metadata": {
    "vscode": {
     "languageId": "python"
    }
   },
   "outputs": [],
   "source": [
    "# Make a phrase\n",
    "def make_phrase(num, num_word, item, verb, adjective, location):\n",
    "  \"\"\"\n",
    "  <documentation here>\n",
    "  \"\"\"\n",
    "  \n",
    "  ## Step 1: Replace NAs with blank strings\n",
    "  verb = verb.fillna(\"\")\n",
    "  adjective = ________\n",
    "  \n",
    "  ## Step 2: If the day number is larger than 1, the gift items need pluralized!\n",
    "  ### Hint: call the function you created above!\n",
    "  \n",
    "  \n",
    "  ## Step 3: Figure out if a gift item starts with a vowel\n",
    "  \n",
    "  \n",
    "  ## Step 4: For the first day, if the gift item starts with a vowel, replace the day with \"an\" and if the gift item does not start with a vowel, replace the day with \"a\" (e.g. a partridge in a pear tree). If it is not the first day, use just the number word (e.g. ten lords a leap)\n",
    "  \n",
    "  ## Step 5: Put all of the pieces together into one string and return!"
   ]
  },
  {
   "cell_type": "code",
   "execution_count": null,
   "metadata": {
    "vscode": {
     "languageId": "python"
    }
   },
   "outputs": [],
   "source": [
    "def sing_day(dataset, num, phrase_col):\n",
    "  \"\"\"\n",
    "  <documentation>\n",
    "  \"\"\"\n",
    "  \n",
    "  # Step 1: Setup the intro line\n",
    "  num_word = _______  # convert \"1\" to \"first\" etc.\n",
    "  intro = \"On the \" + num_word + \" day of Christmas, my true love sent to me:\"\n",
    "  \n",
    "  # Step 2: Sing the gift phrases\n",
    "  # Hint: What order are they gifts sung in each day?\n",
    "  gifts = \"\"\n",
    "  for i in [____]:\n",
    "    gifts = gifts + ______\n",
    "  \n",
    "  # Step 3: Put it all together and return"
   ]
  }
 ],
 "metadata": {
  "language_info": {
   "name": "raw"
  }
 },
 "nbformat": 4,
 "nbformat_minor": 2
}
