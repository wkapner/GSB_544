{
 "cells": [
  {
   "cell_type": "raw",
   "metadata": {
    "vscode": {
     "languageId": "raw"
    }
   },
   "source": [
    "---\n",
    "title: Practice Activity 9.2\n",
    "author: Will Kapner\n",
    "format:\n",
    "    html:\n",
    "        toc: true\n",
    "        code-fold: true\n",
    "output: html\n",
    "warning: false\n",
    "echo: true\n",
    "embed-resources: true\n",
    "eval: false\n",
    "---"
   ]
  },
  {
   "cell_type": "markdown",
   "metadata": {
    "id": "P_N9XP2-04VH"
   },
   "source": [
    "\n",
    "Our dataset consists of clinical data from patients who entered the hospital complaining of chest pain (\"angina\") during exercise.  The information collected includes:\n",
    "\n",
    "* `age` : Age of the patient\n",
    "\n",
    "* `sex` : Sex of the patient\n",
    "\n",
    "* `cp` : Chest Pain type\n",
    "\n",
    "    + Value 0: asymptomatic\n",
    "    + Value 1: typical angina\n",
    "    + Value 2: atypical angina\n",
    "    + Value 3: non-anginal pain\n",
    "   \n",
    "    \n",
    "* `trtbps` : resting blood pressure (in mm Hg)\n",
    "\n",
    "* `chol` : cholesterol in mg/dl fetched via BMI sensor\n",
    "\n",
    "* `restecg` : resting electrocardiographic results\n",
    "\n",
    "    + Value 0: normal\n",
    "    + Value 1: having ST-T wave abnormality (T wave inversions and/or ST elevation or depression of > 0.05 mV)\n",
    "    + Value 2: showing probable or definite left ventricular hypertrophy by Estes' criteria\n",
    "\n",
    "* `thalach` : maximum heart rate achieved during exercise\n",
    "\n",
    "* `output` : the doctor's diagnosis of whether the patient is at risk for a heart attack\n",
    "    + 0 = not at risk of heart attack\n",
    "    + 1 = at risk of heart attack"
   ]
  },
  {
   "cell_type": "code",
   "execution_count": 38,
   "metadata": {
    "id": "tZmjmGGQ1CaN"
   },
   "outputs": [],
   "source": [
    "## library imports here\n",
    "import pandas as pd\n",
    "from sklearn.pipeline import Pipeline\n",
    "from sklearn.compose import make_column_selector, ColumnTransformer\n",
    "from sklearn.neighbors import KNeighborsRegressor, KNeighborsClassifier\n",
    "from sklearn.tree import DecisionTreeRegressor,DecisionTreeClassifier\n",
    "from sklearn.discriminant_analysis import LinearDiscriminantAnalysis\n",
    "from palmerpenguins import load_penguins\n",
    "import numpy as np\n",
    "from palmerpenguins import load_penguins\n",
    "from sklearn.preprocessing import StandardScaler, OneHotEncoder, PolynomialFeatures,label_binarize\n",
    "from sklearn.linear_model import LinearRegression\n",
    "from sklearn.model_selection import train_test_split, cross_val_score, GridSearchCV\n",
    "from sklearn.metrics import r2_score, mean_squared_error, confusion_matrix, accuracy_score, classification_report, roc_curve, auc,roc_auc_score\n",
    "import plotnine as pt\n",
    "from sklearn.linear_model import LogisticRegression\n",
    "from sklearn.linear_model import LogisticRegression\n",
    "from sklearn.model_selection import StratifiedKFold, cross_val_score\n",
    "from sklearn.metrics import make_scorer, f1_score"
   ]
  },
  {
   "cell_type": "code",
   "execution_count": 39,
   "metadata": {
    "id": "ghXbwhv600-S"
   },
   "outputs": [
    {
     "data": {
      "text/html": [
       "<div>\n",
       "<style scoped>\n",
       "    .dataframe tbody tr th:only-of-type {\n",
       "        vertical-align: middle;\n",
       "    }\n",
       "\n",
       "    .dataframe tbody tr th {\n",
       "        vertical-align: top;\n",
       "    }\n",
       "\n",
       "    .dataframe thead th {\n",
       "        text-align: right;\n",
       "    }\n",
       "</style>\n",
       "<table border=\"1\" class=\"dataframe\">\n",
       "  <thead>\n",
       "    <tr style=\"text-align: right;\">\n",
       "      <th></th>\n",
       "      <th>age</th>\n",
       "      <th>sex</th>\n",
       "      <th>cp</th>\n",
       "      <th>trtbps</th>\n",
       "      <th>chol</th>\n",
       "      <th>restecg</th>\n",
       "      <th>thalach</th>\n",
       "      <th>output</th>\n",
       "    </tr>\n",
       "  </thead>\n",
       "  <tbody>\n",
       "    <tr>\n",
       "      <th>0</th>\n",
       "      <td>63</td>\n",
       "      <td>1</td>\n",
       "      <td>3</td>\n",
       "      <td>145</td>\n",
       "      <td>233</td>\n",
       "      <td>0</td>\n",
       "      <td>150</td>\n",
       "      <td>1</td>\n",
       "    </tr>\n",
       "    <tr>\n",
       "      <th>1</th>\n",
       "      <td>37</td>\n",
       "      <td>1</td>\n",
       "      <td>2</td>\n",
       "      <td>130</td>\n",
       "      <td>250</td>\n",
       "      <td>1</td>\n",
       "      <td>187</td>\n",
       "      <td>1</td>\n",
       "    </tr>\n",
       "    <tr>\n",
       "      <th>2</th>\n",
       "      <td>56</td>\n",
       "      <td>1</td>\n",
       "      <td>1</td>\n",
       "      <td>120</td>\n",
       "      <td>236</td>\n",
       "      <td>1</td>\n",
       "      <td>178</td>\n",
       "      <td>1</td>\n",
       "    </tr>\n",
       "    <tr>\n",
       "      <th>3</th>\n",
       "      <td>57</td>\n",
       "      <td>0</td>\n",
       "      <td>0</td>\n",
       "      <td>120</td>\n",
       "      <td>354</td>\n",
       "      <td>1</td>\n",
       "      <td>163</td>\n",
       "      <td>1</td>\n",
       "    </tr>\n",
       "    <tr>\n",
       "      <th>4</th>\n",
       "      <td>57</td>\n",
       "      <td>1</td>\n",
       "      <td>0</td>\n",
       "      <td>140</td>\n",
       "      <td>192</td>\n",
       "      <td>1</td>\n",
       "      <td>148</td>\n",
       "      <td>1</td>\n",
       "    </tr>\n",
       "  </tbody>\n",
       "</table>\n",
       "</div>"
      ],
      "text/plain": [
       "   age  sex  cp  trtbps  chol  restecg  thalach  output\n",
       "0   63    1   3     145   233        0      150       1\n",
       "1   37    1   2     130   250        1      187       1\n",
       "2   56    1   1     120   236        1      178       1\n",
       "3   57    0   0     120   354        1      163       1\n",
       "4   57    1   0     140   192        1      148       1"
      ]
     },
     "execution_count": 39,
     "metadata": {},
     "output_type": "execute_result"
    }
   ],
   "source": [
    "ha = pd.read_csv(\"https://www.dropbox.com/s/aohbr6yb9ifmc8w/heart_attack.csv?dl=1\")\n",
    "ha.head()"
   ]
  },
  {
   "cell_type": "markdown",
   "metadata": {
    "id": "OCX180v41bhe"
   },
   "source": [
    "## Q1: Natural Multiclass Models\n",
    "\n",
    "Fit a multiclass KNN, Decision Tree, and LDA for the heart disease data; this time predicting the type of chest pain (categories 0 - 3) that a patient experiences.  For the decision tree, plot the fitted tree, and interpret the first couple splits.\n"
   ]
  },
  {
   "cell_type": "code",
   "execution_count": 11,
   "metadata": {
    "id": "WJsMBCZh1glq"
   },
   "outputs": [
    {
     "name": "stdout",
     "output_type": "stream",
     "text": [
      "Best n_neighbors: 39\n",
      "Best Accuracy: 0.5654520917678811\n"
     ]
    }
   ],
   "source": [
    "X = ha.drop(columns=['cp'])\n",
    "y = ha['cp']\n",
    "\n",
    "X_train, X_test, y_train, y_test = train_test_split(X, y, test_size=0.3, random_state=42, stratify=y)\n",
    "\n",
    "ct = ColumnTransformer(\n",
    "  [  \n",
    "    (\"standardize\", StandardScaler(), [\"age\",\"trtbps\",\"chol\", \"thalach\"]),\n",
    "    (\"dummify\", OneHotEncoder(sparse_output = False), [\"sex\", \"restecg\", \"output\"])\n",
    "  ],\n",
    "  remainder = \"drop\"\n",
    ")\n",
    "\n",
    "knn_pipeline1 = Pipeline(\n",
    "    [\n",
    "        (\"preprocessing\", ct),\n",
    "        (\"knn\", KNeighborsClassifier())\n",
    "    ]\n",
    ").set_output(transform=\"pandas\")\n",
    "\n",
    "params = {'knn__n_neighbors': list(range(1, 50))}\n",
    "\n",
    "grid_search = GridSearchCV(\n",
    "    knn_pipeline1,\n",
    "    params,\n",
    "    cv=5,\n",
    "    scoring='accuracy',\n",
    "    n_jobs=-1\n",
    ")\n",
    "\n",
    "grid_search.fit(X_train, y_train)\n",
    "\n",
    "best_n_neighbors = grid_search.best_params_['knn__n_neighbors']\n",
    "best_accuracy = grid_search.best_score_\n",
    "\n",
    "print(f\"Best n_neighbors: {best_n_neighbors}\")\n",
    "print(f\"Best Accuracy: {best_accuracy}\")\n"
   ]
  },
  {
   "cell_type": "code",
   "execution_count": null,
   "metadata": {},
   "outputs": [
    {
     "name": "stdout",
     "output_type": "stream",
     "text": [
      "Best Decision Tree Parameters: {'tree__criterion': 'gini', 'tree__max_depth': 1, 'tree__min_samples_split': 2}\n",
      "Best Max Depth: 1\n",
      "Best Accuracy: 0.57\n",
      "Decision Tree Classification Report:\n",
      "               precision    recall  f1-score   support\n",
      "\n",
      "           0       0.70      0.79      0.75        39\n",
      "           1       0.00      0.00      0.00        13\n",
      "           2       0.45      0.71      0.55        24\n",
      "           3       0.00      0.00      0.00         6\n",
      "\n",
      "    accuracy                           0.59        82\n",
      "   macro avg       0.29      0.38      0.32        82\n",
      "weighted avg       0.47      0.59      0.52        82\n",
      "\n"
     ]
    },
    {
     "name": "stderr",
     "output_type": "stream",
     "text": [
      "/opt/anaconda3/lib/python3.12/site-packages/sklearn/metrics/_classification.py:1509: UndefinedMetricWarning: Precision is ill-defined and being set to 0.0 in labels with no predicted samples. Use `zero_division` parameter to control this behavior.\n",
      "/opt/anaconda3/lib/python3.12/site-packages/sklearn/metrics/_classification.py:1509: UndefinedMetricWarning: Precision is ill-defined and being set to 0.0 in labels with no predicted samples. Use `zero_division` parameter to control this behavior.\n",
      "/opt/anaconda3/lib/python3.12/site-packages/sklearn/metrics/_classification.py:1509: UndefinedMetricWarning: Precision is ill-defined and being set to 0.0 in labels with no predicted samples. Use `zero_division` parameter to control this behavior.\n"
     ]
    }
   ],
   "source": [
    "tree_pipeline = Pipeline([\n",
    "    (\"preprocessing\", ct),  # Include preprocessing step\n",
    "    ('tree', DecisionTreeClassifier(random_state=42))  # Tree model\n",
    "])\n",
    "\n",
    "# Parameter grid for GridSearchCV\n",
    "tree_param_grid = {\n",
    "    'tree__max_depth': range(1, 30),  \n",
    "    'tree__criterion': ['gini', 'entropy'], \n",
    "    'tree__min_samples_split': [2, 5, 10] \n",
    "}\n",
    "\n",
    "# Perform GridSearchCV\n",
    "tree_grid_search = GridSearchCV(\n",
    "    tree_pipeline,\n",
    "    param_grid=tree_param_grid,\n",
    "    cv=5,\n",
    "    scoring='accuracy',\n",
    "    n_jobs=-1\n",
    ")\n",
    "\n",
    "# Fit the grid search on training data\n",
    "tree_grid_search.fit(X_train, y_train)\n",
    "\n",
    "# Extract the best parameters and accuracy\n",
    "best_tree_params = tree_grid_search.best_params_\n",
    "best_accuracy = tree_grid_search.best_score_\n",
    "\n",
    "# Display the best max depth\n",
    "best_max_depth = best_tree_params['tree__max_depth']\n",
    "print(f\"Best Decision Tree Parameters: {best_tree_params}\")\n",
    "print(f\"Best Max Depth: {best_max_depth}\")\n",
    "print(f\"Best Accuracy: {best_accuracy:.2f}\")\n",
    "\n",
    "# Use the best model to make predictions\n",
    "best_tree_model = tree_grid_search.best_estimator_\n",
    "y_pred_tree = best_tree_model.predict(X_test)\n",
    "\n",
    "# Evaluate the final model\n",
    "print(\"Decision Tree Classification Report:\\n\", classification_report(y_test, y_pred_tree))"
   ]
  },
  {
   "cell_type": "code",
   "execution_count": 24,
   "metadata": {},
   "outputs": [
    {
     "data": {
      "image/png": "[encoded data removed]",
      "text/plain": [
       "<Figure size 1500x1000 with 1 Axes>"
      ]
     },
     "metadata": {},
     "output_type": "display_data"
    }
   ],
   "source": [
    "from sklearn.tree import plot_tree\n",
    "import matplotlib.pyplot as plt\n",
    "\n",
    "# Retrieve the best decision tree model from grid search\n",
    "best_tree_model = tree_grid_search.best_estimator_\n",
    "\n",
    "# Plot the decision tree\n",
    "plt.figure(figsize=(15, 10))\n",
    "plot_tree(best_tree_model.named_steps['tree'], \n",
    "          feature_names=ct.get_feature_names_out(),  # Get feature names after transformation\n",
    "          class_names=['0', '1', '2', '3'],  # Assuming 4 classes for chest pain type\n",
    "          filled=True,  # Color the nodes based on the class they predict\n",
    "          rounded=True,  # Round the corners for better readability\n",
    "          fontsize=12)  # Set font size for better readability\n",
    "plt.title(\"Optimized Decision Tree\")\n",
    "plt.show()"
   ]
  },
  {
   "cell_type": "markdown",
   "metadata": {},
   "source": [
    "For this decsion tree, we only have one split. This splits based on age with older people being more prone to chest pain."
   ]
  },
  {
   "cell_type": "code",
   "execution_count": null,
   "metadata": {},
   "outputs": [
    {
     "name": "stdout",
     "output_type": "stream",
     "text": [
      "Best Decision Tree Parameters: {'tree__criterion': 'gini', 'tree__max_depth': 1, 'tree__min_samples_split': 2}\n",
      "Best Max Depth: svd\n",
      "Best Accuracy: 0.52\n",
      "LDA Classification Report:\n",
      "               precision    recall  f1-score   support\n",
      "\n",
      "           0       0.70      0.79      0.75        39\n",
      "           1       0.20      0.23      0.21        13\n",
      "           2       0.45      0.42      0.43        24\n",
      "           3       0.00      0.00      0.00         6\n",
      "\n",
      "    accuracy                           0.54        82\n",
      "   macro avg       0.34      0.36      0.35        82\n",
      "weighted avg       0.50      0.54      0.52        82\n",
      "\n"
     ]
    },
    {
     "name": "stderr",
     "output_type": "stream",
     "text": [
      "/opt/anaconda3/lib/python3.12/site-packages/sklearn/model_selection/_validation.py:547: FitFailedWarning: \n",
      "5 fits failed out of a total of 15.\n",
      "The score on these train-test partitions for these parameters will be set to nan.\n",
      "If these failures are not expected, you can try to debug them by setting error_score='raise'.\n",
      "\n",
      "Below are more details about the failures:\n",
      "--------------------------------------------------------------------------------\n",
      "4 fits failed with the following error:\n",
      "Traceback (most recent call last):\n",
      "  File \"/opt/anaconda3/lib/python3.12/site-packages/sklearn/model_selection/_validation.py\", line 895, in _fit_and_score\n",
      "    estimator.fit(X_train, y_train, **fit_params)\n",
      "  File \"/opt/anaconda3/lib/python3.12/site-packages/sklearn/base.py\", line 1474, in wrapper\n",
      "    return fit_method(estimator, *args, **kwargs)\n",
      "           ^^^^^^^^^^^^^^^^^^^^^^^^^^^^^^^^^^^^^^\n",
      "  File \"/opt/anaconda3/lib/python3.12/site-packages/sklearn/pipeline.py\", line 475, in fit\n",
      "    self._final_estimator.fit(Xt, y, **last_step_params[\"fit\"])\n",
      "  File \"/opt/anaconda3/lib/python3.12/site-packages/sklearn/base.py\", line 1474, in wrapper\n",
      "    return fit_method(estimator, *args, **kwargs)\n",
      "           ^^^^^^^^^^^^^^^^^^^^^^^^^^^^^^^^^^^^^^\n",
      "  File \"/opt/anaconda3/lib/python3.12/site-packages/sklearn/discriminant_analysis.py\", line 637, in fit\n",
      "    self._solve_eigen(\n",
      "  File \"/opt/anaconda3/lib/python3.12/site-packages/sklearn/discriminant_analysis.py\", line 467, in _solve_eigen\n",
      "    evals, evecs = linalg.eigh(Sb, Sw)\n",
      "                   ^^^^^^^^^^^^^^^^^^^\n",
      "  File \"/opt/anaconda3/lib/python3.12/site-packages/scipy/_lib/deprecation.py\", line 213, in inner_f\n",
      "    return f(*args, **kwargs)\n",
      "           ^^^^^^^^^^^^^^^^^^\n",
      "  File \"/opt/anaconda3/lib/python3.12/site-packages/scipy/linalg/_decomp.py\", line 593, in eigh\n",
      "    raise LinAlgError(f'The leading minor of order {info-n} of B is not '\n",
      "numpy.linalg.LinAlgError: The leading minor of order 9 of B is not positive definite. The factorization of B could not be completed and no eigenvalues or eigenvectors were computed.\n",
      "\n",
      "--------------------------------------------------------------------------------\n",
      "1 fits failed with the following error:\n",
      "Traceback (most recent call last):\n",
      "  File \"/opt/anaconda3/lib/python3.12/site-packages/sklearn/model_selection/_validation.py\", line 895, in _fit_and_score\n",
      "    estimator.fit(X_train, y_train, **fit_params)\n",
      "  File \"/opt/anaconda3/lib/python3.12/site-packages/sklearn/base.py\", line 1474, in wrapper\n",
      "    return fit_method(estimator, *args, **kwargs)\n",
      "           ^^^^^^^^^^^^^^^^^^^^^^^^^^^^^^^^^^^^^^\n",
      "  File \"/opt/anaconda3/lib/python3.12/site-packages/sklearn/pipeline.py\", line 475, in fit\n",
      "    self._final_estimator.fit(Xt, y, **last_step_params[\"fit\"])\n",
      "  File \"/opt/anaconda3/lib/python3.12/site-packages/sklearn/base.py\", line 1474, in wrapper\n",
      "    return fit_method(estimator, *args, **kwargs)\n",
      "           ^^^^^^^^^^^^^^^^^^^^^^^^^^^^^^^^^^^^^^\n",
      "  File \"/opt/anaconda3/lib/python3.12/site-packages/sklearn/discriminant_analysis.py\", line 637, in fit\n",
      "    self._solve_eigen(\n",
      "  File \"/opt/anaconda3/lib/python3.12/site-packages/sklearn/discriminant_analysis.py\", line 467, in _solve_eigen\n",
      "    evals, evecs = linalg.eigh(Sb, Sw)\n",
      "                   ^^^^^^^^^^^^^^^^^^^\n",
      "  File \"/opt/anaconda3/lib/python3.12/site-packages/scipy/_lib/deprecation.py\", line 213, in inner_f\n",
      "    return f(*args, **kwargs)\n",
      "           ^^^^^^^^^^^^^^^^^^\n",
      "  File \"/opt/anaconda3/lib/python3.12/site-packages/scipy/linalg/_decomp.py\", line 593, in eigh\n",
      "    raise LinAlgError(f'The leading minor of order {info-n} of B is not '\n",
      "numpy.linalg.LinAlgError: The leading minor of order 6 of B is not positive definite. The factorization of B could not be completed and no eigenvalues or eigenvectors were computed.\n",
      "\n",
      "/opt/anaconda3/lib/python3.12/site-packages/sklearn/model_selection/_search.py:1051: UserWarning: One or more of the test scores are non-finite: [0.52388664 0.52388664        nan]\n"
     ]
    }
   ],
   "source": [
    "# LDA Pipeline\n",
    "lda_pipeline = Pipeline([\n",
    "    (\"preprocessing\", ct),  \n",
    "    ('lda', LinearDiscriminantAnalysis())  \n",
    "])\n",
    "\n",
    "lda_param_grid = {\n",
    "    'lda__solver': ['svd', 'lsqr', 'eigen']  \n",
    "}\n",
    "\n",
    "lda_grid_search = GridSearchCV(\n",
    "    lda_pipeline,\n",
    "    param_grid=lda_param_grid,\n",
    "    cv=5,\n",
    "    scoring='accuracy',\n",
    "    n_jobs=-1\n",
    ")\n",
    "\n",
    "# Fit the grid search\n",
    "lda_grid_search.fit(X_train, y_train)\n",
    "\n",
    "# Access the best parameters\n",
    "best_lda_params = lda_grid_search.best_params_ \n",
    "best_solver = best_lda_params['lda__solver']  \n",
    "best_accuracy = lda_grid_search.best_score_\n",
    "\n",
    "print(f\"Best Decision Tree Parameters: {best_tree_params}\")\n",
    "print(f\"Best Max Depth: {best_solver}\")\n",
    "print(f\"Best Accuracy: {best_accuracy:.2f}\")\n",
    "\n",
    "\n",
    "# LDA\n",
    "lda_pipeline.fit(X_train, y_train)\n",
    "y_pred_lda = lda_pipeline.predict(X_test)\n",
    "print(\"LDA Classification Report:\\n\", classification_report(y_test, y_pred_lda))"
   ]
  },
  {
   "cell_type": "markdown",
   "metadata": {
    "id": "gYqpOtbO1EAJ"
   },
   "source": [
    "## Q2:  OvR\n",
    "\n",
    "Create a new column in the `ha` dataset called `cp_is_3`, which is equal to `1` if the `cp` variable is equal to `3` and `0` otherwise.\n",
    "\n",
    "Then, fit a Logistic Regression to predict this new target, and report the **F1 Score**.\n",
    "\n",
    "Repeat for the other three `cp` categories.  Which category was the OvR approach best at distinguishing?"
   ]
  },
  {
   "cell_type": "code",
   "execution_count": 42,
   "metadata": {},
   "outputs": [
    {
     "data": {
      "text/html": [
       "<div>\n",
       "<style scoped>\n",
       "    .dataframe tbody tr th:only-of-type {\n",
       "        vertical-align: middle;\n",
       "    }\n",
       "\n",
       "    .dataframe tbody tr th {\n",
       "        vertical-align: top;\n",
       "    }\n",
       "\n",
       "    .dataframe thead th {\n",
       "        text-align: right;\n",
       "    }\n",
       "</style>\n",
       "<table border=\"1\" class=\"dataframe\">\n",
       "  <thead>\n",
       "    <tr style=\"text-align: right;\">\n",
       "      <th></th>\n",
       "      <th>age</th>\n",
       "      <th>sex</th>\n",
       "      <th>cp</th>\n",
       "      <th>trtbps</th>\n",
       "      <th>chol</th>\n",
       "      <th>restecg</th>\n",
       "      <th>thalach</th>\n",
       "      <th>output</th>\n",
       "      <th>cp_is_0</th>\n",
       "      <th>cp_is_1</th>\n",
       "      <th>cp_is_2</th>\n",
       "      <th>cp_is_3</th>\n",
       "    </tr>\n",
       "  </thead>\n",
       "  <tbody>\n",
       "    <tr>\n",
       "      <th>0</th>\n",
       "      <td>63</td>\n",
       "      <td>1</td>\n",
       "      <td>3</td>\n",
       "      <td>145</td>\n",
       "      <td>233</td>\n",
       "      <td>0</td>\n",
       "      <td>150</td>\n",
       "      <td>1</td>\n",
       "      <td>0</td>\n",
       "      <td>0</td>\n",
       "      <td>0</td>\n",
       "      <td>1</td>\n",
       "    </tr>\n",
       "    <tr>\n",
       "      <th>1</th>\n",
       "      <td>37</td>\n",
       "      <td>1</td>\n",
       "      <td>2</td>\n",
       "      <td>130</td>\n",
       "      <td>250</td>\n",
       "      <td>1</td>\n",
       "      <td>187</td>\n",
       "      <td>1</td>\n",
       "      <td>0</td>\n",
       "      <td>0</td>\n",
       "      <td>1</td>\n",
       "      <td>0</td>\n",
       "    </tr>\n",
       "    <tr>\n",
       "      <th>2</th>\n",
       "      <td>56</td>\n",
       "      <td>1</td>\n",
       "      <td>1</td>\n",
       "      <td>120</td>\n",
       "      <td>236</td>\n",
       "      <td>1</td>\n",
       "      <td>178</td>\n",
       "      <td>1</td>\n",
       "      <td>0</td>\n",
       "      <td>1</td>\n",
       "      <td>0</td>\n",
       "      <td>0</td>\n",
       "    </tr>\n",
       "    <tr>\n",
       "      <th>3</th>\n",
       "      <td>57</td>\n",
       "      <td>0</td>\n",
       "      <td>0</td>\n",
       "      <td>120</td>\n",
       "      <td>354</td>\n",
       "      <td>1</td>\n",
       "      <td>163</td>\n",
       "      <td>1</td>\n",
       "      <td>1</td>\n",
       "      <td>0</td>\n",
       "      <td>0</td>\n",
       "      <td>0</td>\n",
       "    </tr>\n",
       "    <tr>\n",
       "      <th>4</th>\n",
       "      <td>57</td>\n",
       "      <td>1</td>\n",
       "      <td>0</td>\n",
       "      <td>140</td>\n",
       "      <td>192</td>\n",
       "      <td>1</td>\n",
       "      <td>148</td>\n",
       "      <td>1</td>\n",
       "      <td>1</td>\n",
       "      <td>0</td>\n",
       "      <td>0</td>\n",
       "      <td>0</td>\n",
       "    </tr>\n",
       "  </tbody>\n",
       "</table>\n",
       "</div>"
      ],
      "text/plain": [
       "   age  sex  cp  trtbps  chol  restecg  thalach  output  cp_is_0  cp_is_1  \\\n",
       "0   63    1   3     145   233        0      150       1        0        0   \n",
       "1   37    1   2     130   250        1      187       1        0        0   \n",
       "2   56    1   1     120   236        1      178       1        0        1   \n",
       "3   57    0   0     120   354        1      163       1        1        0   \n",
       "4   57    1   0     140   192        1      148       1        1        0   \n",
       "\n",
       "   cp_is_2  cp_is_3  \n",
       "0        0        1  \n",
       "1        1        0  \n",
       "2        0        0  \n",
       "3        0        0  \n",
       "4        0        0  "
      ]
     },
     "execution_count": 42,
     "metadata": {},
     "output_type": "execute_result"
    }
   ],
   "source": [
    "ha[f'cp_is_0'] = (ha['cp'] == 0).astype(int)\n",
    "ha[f'cp_is_1'] = (ha['cp'] == 1).astype(int)\n",
    "ha[f'cp_is_2'] = (ha['cp'] == 2).astype(int)\n",
    "ha[f'cp_is_3'] = (ha['cp'] == 3).astype(int)\n",
    "\n",
    "X = ha.drop(columns=['cp', 'cp_is_0', 'cp_is_1', 'cp_is_2', 'cp_is_3'])\n",
    "y_columns = ['cp_is_0', 'cp_is_1', 'cp_is_2', 'cp_is_3']\n",
    "X_train, X_test, y_train, y_test = train_test_split(X, y, test_size=0.3, random_state=42, stratify=y)\n",
    "\n",
    "ha.head()\n"
   ]
  },
  {
   "cell_type": "code",
   "execution_count": 36,
   "metadata": {
    "id": "90PfjsjW1T2Y"
   },
   "outputs": [
    {
     "name": "stdout",
     "output_type": "stream",
     "text": [
      "F1 Score for OvR with cp_is_0: 0.7202\n",
      "F1 Score for OvR with cp_is_1: 0.0000\n",
      "F1 Score for OvR with cp_is_2: 0.1188\n",
      "F1 Score for OvR with cp_is_3: 0.0000\n",
      "\n",
      "Best OvR approach at distinguishing category: cp_is_0\n"
     ]
    }
   ],
   "source": [
    "from sklearn.metrics import f1_score\n",
    "f1_scores = {}\n",
    "\n",
    "kf = StratifiedKFold(n_splits=5, shuffle=True, random_state=42)\n",
    "\n",
    "for target_col in y_columns:\n",
    "    y = ha[target_col]  # Select the binary target column\n",
    "\n",
    "    # Create pipeline with preprocessing and logistic regression\n",
    "    pipeline = Pipeline([\n",
    "        ('preprocessing', ct),\n",
    "        ('logreg', LogisticRegression(max_iter=1000, solver='lbfgs'))\n",
    "    ])\n",
    "    \n",
    "    f1_scorer = make_scorer(f1_score)\n",
    "    scores = cross_val_score(pipeline, X, y, cv=kf, scoring=f1_scorer, n_jobs=-1)\n",
    "    \n",
    "    # Store average F1 score for this target column\n",
    "    f1_scores[target_col] = np.mean(scores)\n",
    "\n",
    "    # Fit the model\n",
    "    # pipeline.fit(X_train, y_train)\n",
    "    \n",
    "    # # Predict and compute F1 score\n",
    "    # y_pred = pipeline.predict(X_test)\n",
    "    # f1 = f1_score(y_test, y_pred)\n",
    "    # f1_scores[target_col] = f1\n",
    "\n",
    "# Report the F1 scores for each category\n",
    "for category, f1 in f1_scores.items():\n",
    "    print(f\"F1 Score for OvR with {category}: {f1:.4f}\")\n",
    "\n",
    "# Determine the category with the best F1 score\n",
    "best_category = max(f1_scores, key=f1_scores.get)\n",
    "print(f\"\\nBest OvR approach at distinguishing category: {best_category}\")"
   ]
  },
  {
   "cell_type": "markdown",
   "metadata": {},
   "source": [
    "The best OvR model was the one for a chest pain score of 0. It gave me a F1 score of 0.72 which was far higher than the other F1 scores for the other categories. This means it was a far more accurate predictor than all the rest."
   ]
  },
  {
   "cell_type": "markdown",
   "metadata": {
    "id": "lXO3jbTU1ULR"
   },
   "source": [
    "## Q3: OvO\n",
    "\n",
    "Reduce your dataset to only the `0` and `1` types of chest pain.\n",
    "\n",
    "Then, fit a Logistic Regression to predict between the two groups, and report the **ROC-AUC**.  \n",
    "\n",
    "Repeat comparing category `0` to `2` and `3`.  Which pair was the OvO approach best at distinguishing?"
   ]
  },
  {
   "cell_type": "code",
   "execution_count": 63,
   "metadata": {
    "id": "THrjnRoV1siy"
   },
   "outputs": [],
   "source": [
    "ha01 = ha[(ha['cp'] == 0) | (ha['cp'] == 1)]\n",
    "ha01.head()\n",
    "\n",
    "X = ha01.drop(columns=['cp','cp_is_0','cp_is_1','cp_is_2','cp_is_3'])\n",
    "y = ha01['cp']"
   ]
  },
  {
   "cell_type": "code",
   "execution_count": 64,
   "metadata": {},
   "outputs": [
    {
     "name": "stdout",
     "output_type": "stream",
     "text": [
      "ROC-AUC Score for OvO between cp 0 and cp 1: 0.8226495726495726\n"
     ]
    }
   ],
   "source": [
    "ovopipeline = Pipeline([\n",
    "    ('preprocessing', ct),\n",
    "    ('logreg', LogisticRegression(max_iter=1000, solver='lbfgs'))\n",
    "])\n",
    "\n",
    "kf = StratifiedKFold(n_splits=5, shuffle=True, random_state=42)\n",
    "scores = cross_val_score(ovopipeline, X, y, cv=kf, scoring='roc_auc', n_jobs=-1)\n",
    "\n",
    "\n",
    "# Output the ROC-AUC score\n",
    "print(f\"ROC-AUC Score for OvO between cp 0 and cp 1:\", scores.mean())"
   ]
  },
  {
   "cell_type": "code",
   "execution_count": 57,
   "metadata": {},
   "outputs": [],
   "source": [
    "ha02 = ha[(ha['cp'] == 0) | (ha['cp'] == 2)]\n",
    "ha01.head()\n",
    "\n",
    "X = ha02.drop(columns=['cp','cp_is_0','cp_is_1','cp_is_2','cp_is_3'])\n",
    "y = ha02['cp']\n",
    "\n"
   ]
  },
  {
   "cell_type": "code",
   "execution_count": 62,
   "metadata": {},
   "outputs": [
    {
     "name": "stdout",
     "output_type": "stream",
     "text": [
      "Average ROC-AUC Score for OvO between cp 0 and cp 2: 0.7410\n"
     ]
    }
   ],
   "source": [
    "ovopipeline = Pipeline([\n",
    "    ('preprocessing', ct),\n",
    "    ('logreg', LogisticRegression(max_iter=1000, solver='lbfgs'))\n",
    "])\n",
    "\n",
    "# Define StratifiedKFold cross-validation\n",
    "kf = StratifiedKFold(n_splits=5, shuffle=True, random_state=42)\n",
    "\n",
    "# Use cross_val_score for ROC-AUC scoring\n",
    "roc_auc_scores = cross_val_score(ovopipeline, X, y, cv=kf, scoring='roc_auc', n_jobs=-1)\n",
    "\n",
    "# Output the average ROC-AUC score\n",
    "print(f\"Average ROC-AUC Score for OvO between cp 0 and cp 2: {roc_auc_scores.mean():.4f}\")"
   ]
  },
  {
   "cell_type": "code",
   "execution_count": 69,
   "metadata": {},
   "outputs": [],
   "source": [
    "ha03 = ha[(ha['cp'] == 0) | (ha['cp'] == 3)]\n",
    "ha03.head()\n",
    "\n",
    "X = ha03.drop(columns=['cp','cp_is_0','cp_is_1','cp_is_2','cp_is_3'])\n",
    "y = ha03['cp']\n",
    "\n"
   ]
  },
  {
   "cell_type": "code",
   "execution_count": 70,
   "metadata": {},
   "outputs": [
    {
     "name": "stdout",
     "output_type": "stream",
     "text": [
      "Average ROC-AUC Score for OvO between cp 0 and cp 2: 0.7278\n"
     ]
    }
   ],
   "source": [
    "ovopipeline = Pipeline([\n",
    "    ('preprocessing', ct),\n",
    "    ('logreg', LogisticRegression(max_iter=1000, solver='lbfgs'))\n",
    "])\n",
    "\n",
    "# Define StratifiedKFold cross-validation\n",
    "kf = StratifiedKFold(n_splits=5, shuffle=True, random_state=42)\n",
    "\n",
    "# Use cross_val_score for ROC-AUC scoring\n",
    "roc_auc_scores = cross_val_score(ovopipeline, X, y, cv=kf, scoring='roc_auc', n_jobs=-1)\n",
    "\n",
    "# Output the average ROC-AUC score\n",
    "print(f\"Average ROC-AUC Score for OvO between cp 0 and cp 2: {roc_auc_scores.mean():.4f}\")"
   ]
  },
  {
   "cell_type": "markdown",
   "metadata": {},
   "source": [
    "This shows us that the highest ROC AUC value for a chest pain rating of 0 was when it was compared to a chest pain rating of 1, followed by 2, with a cp rating of 3 being the lowest AUC value. This means the model had the best predictions when determining the difference between a chest pain rating of 0 and a chest pain rating of 1. The ROC AUC value was 0.82 which far exceeds the baseline model of 0.5."
   ]
  },
  {
   "cell_type": "markdown",
   "metadata": {},
   "source": [
    "Chat GPT 4o was used to automate some pipeline processes as well as debugging errors. "
   ]
  }
 ],
 "metadata": {
  "colab": {
   "provenance": []
  },
  "kernelspec": {
   "display_name": "base",
   "language": "python",
   "name": "python3"
  },
  "language_info": {
   "codemirror_mode": {
    "name": "ipython",
    "version": 3
   },
   "file_extension": ".py",
   "mimetype": "text/x-python",
   "name": "python",
   "nbconvert_exporter": "python",
   "pygments_lexer": "ipython3",
   "version": "3.12.4"
  }
 },
 "nbformat": 4,
 "nbformat_minor": 0
}
