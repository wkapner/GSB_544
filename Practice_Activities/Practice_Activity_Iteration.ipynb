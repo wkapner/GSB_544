{
  "nbformat": 4,
  "nbformat_minor": 0,
  "metadata": {
    "colab": {
      "provenance": []
    },
    "kernelspec": {
      "name": "python3",
      "display_name": "Python 3"
    },
    "language_info": {
      "name": "python"
    }
  },
  "cells": [
    {
      "cell_type": "markdown",
      "source": [
        "0. Load the `penguins` dataset from the `palmerpenguins` library, as well as any other libraries you need.\n",
        "\n"
      ],
      "metadata": {
        "id": "8p1mF9p_njvq"
      }
    },
    {
      "cell_type": "code",
      "execution_count": null,
      "metadata": {
        "id": "B0wyLoBRngwh"
      },
      "outputs": [],
      "source": []
    },
    {
      "cell_type": "markdown",
      "source": [
        "1. Write a function that takes in information about a penguin, and returns one of the following definitions:\n",
        "\n",
        "*   \"Big Mouth Billy\": Male penguins with bill length times bill depth greater than 800.\n",
        "*   \"Dainty Daisy\": Female penguins with flipper length less than 5% of body mass.\n",
        "*   \"Average Adelie:\" Any Adelie penguins that do not fall into either category.\n",
        "*   \"Other\": Any penguins that do not fall into any of the categories.\n",
        "\n"
      ],
      "metadata": {
        "id": "LUURcsjcnrA3"
      }
    },
    {
      "cell_type": "code",
      "source": [],
      "metadata": {
        "id": "udKVPIJmpKG_"
      },
      "execution_count": null,
      "outputs": []
    },
    {
      "cell_type": "markdown",
      "source": [
        "2. Use an iterable function to create a new variable called `category_name` that adds these labels."
      ],
      "metadata": {
        "id": "L3cOiPwJo_q5"
      }
    },
    {
      "cell_type": "code",
      "source": [],
      "metadata": {
        "id": "AJk_DHBDpKvV"
      },
      "execution_count": null,
      "outputs": []
    },
    {
      "cell_type": "markdown",
      "source": [
        "3. Run the following code to find the counts for each type."
      ],
      "metadata": {
        "id": "wzjur3hzpLxr"
      }
    },
    {
      "cell_type": "code",
      "source": [
        "penguins.value_counts(\"category_name\")"
      ],
      "metadata": {
        "id": "iDHDAKOXpPOm"
      },
      "execution_count": null,
      "outputs": []
    }
  ]
}