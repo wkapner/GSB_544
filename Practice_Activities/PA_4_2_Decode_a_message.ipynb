{
  "cells": [
    {
      "cell_type": "raw",
      "metadata": {},
      "source": [
        "---\n",
        "title: Practice Activity 4.2\n",
        "author: Will Kapner\n",
        "format:\n",
        "    html:\n",
        "        toc: true\n",
        "        code-fold: true\n",
        "output: html\n",
        "warning: false\n",
        "echo: true\n",
        "embed-resources: true\n",
        "eval: false\n",
        "---"
      ]
    },
    {
      "cell_type": "markdown",
      "metadata": {
        "id": "kPj76X_FP2uq"
      },
      "source": [
        "## Setup\n",
        "\n",
        "Run the code below to load the scrambled message:\n"
      ]
    },
    {
      "cell_type": "code",
      "execution_count": 2,
      "metadata": {
        "id": "YwkYMR2qP2ur"
      },
      "outputs": [],
      "source": [
        "import pandas as pd\n",
        "\n",
        "message = pd.read_csv(\"https://www.dropbox.com/s/lgpn3vmksk3ssdo/scrambled_message.txt?dl=1\")['Word']"
      ]
    },
    {
      "cell_type": "code",
      "execution_count": 50,
      "metadata": {
        "colab": {
          "base_uri": "https://localhost:8080/"
        },
        "id": "rqykaCOxF1Z9",
        "outputId": "78651d97-c46b-4c24-b5e9-f67ae6a0ea1c"
      },
      "outputs": [
        {
          "data": {
            "text/plain": [
              "0                    Koila!\n",
              "1                     In   \n",
              "2                     kiew,\n",
              "3                         a\n",
              "4                 humble   \n",
              "               ...         \n",
              "122                     you\n",
              "123                 mabugh.\n",
              "124              ughhh?call\n",
              "125        meugh.ughhhh!   \n",
              "126                      K.\n",
              "Name: Word, Length: 127, dtype: object"
            ]
          },
          "execution_count": 50,
          "metadata": {},
          "output_type": "execute_result"
        }
      ],
      "source": [
        "message"
      ]
    },
    {
      "cell_type": "markdown",
      "metadata": {
        "id": "cI8ZE3LAP2us"
      },
      "source": [
        "In this activity, a \"word\" refers to any set of characters with no white space, even though they are not truly an English word.  That is, even though many of elements of the scrambled message vector are nonsense, and some have punctuation, you can consider each element to be a \"word\".\n",
        "\n",
        "Beware!  The object named `message` is a **pandas Series** of strings.  If you want to use functions that expect a string, rather than a series, remember `.apply()` and `lambda` functions.\n",
        "\n"
      ]
    },
    {
      "cell_type": "markdown",
      "metadata": {
        "id": "dYISAD8uQLAy"
      },
      "source": [
        "\n",
        "## Warm-up exercises\n",
        "\n",
        "1. How many characters are in the scrambled message?\n",
        "2. How many of these characters are white space?\n",
        "3. How many words are in the scrambled message?\n",
        "4. Show all the punctuation marks in the scrambled message.\n",
        "5. Print out, in all capitals, the longest word in the scrambled message.\n",
        "6. Print out every piece of a word that starts with the letter \"m\" and ends with the letter \"z\" in the scrambled message."
      ]
    },
    {
      "cell_type": "code",
      "execution_count": 64,
      "metadata": {
        "id": "6vB1tbjiQNvE"
      },
      "outputs": [
        {
          "data": {
            "text/plain": [
              "1652"
            ]
          },
          "execution_count": 64,
          "metadata": {},
          "output_type": "execute_result"
        }
      ],
      "source": [
        "import string\n",
        "import re\n",
        "# question 1\n",
        "message.apply(lambda x: len(x)).sum()"
      ]
    },
    {
      "cell_type": "code",
      "execution_count": null,
      "metadata": {},
      "outputs": [],
      "source": [
        "# question 2\n",
        "message.apply(lambda x: x.count(' ')).sum()"
      ]
    },
    {
      "cell_type": "code",
      "execution_count": 70,
      "metadata": {},
      "outputs": [
        {
          "data": {
            "text/plain": [
              "127"
            ]
          },
          "execution_count": 70,
          "metadata": {},
          "output_type": "execute_result"
        }
      ],
      "source": [
        "# question 3\n",
        "message.apply(lambda x: x.split()).count()"
      ]
    },
    {
      "cell_type": "code",
      "execution_count": 84,
      "metadata": {},
      "outputs": [
        {
          "data": {
            "text/plain": [
              "0         [!]\n",
              "1          []\n",
              "2         [,]\n",
              "3          []\n",
              "4          []\n",
              "        ...  \n",
              "122        []\n",
              "123       [.]\n",
              "124       [?]\n",
              "125    [., !]\n",
              "126       [.]\n",
              "Name: Word, Length: 127, dtype: object"
            ]
          },
          "execution_count": 84,
          "metadata": {},
          "output_type": "execute_result"
        }
      ],
      "source": [
        "# question 4\n",
        "#punc = re.findall(f\"[{re.escape(string.punctuation)}]\",messagecombo)\n",
        "message.apply(lambda x: re.findall(r'[!\"#$%&\\'()*+,-./:;<=>?@\\\\^_`{|}~]',x))\n"
      ]
    },
    {
      "cell_type": "code",
      "execution_count": 96,
      "metadata": {},
      "outputs": [
        {
          "data": {
            "text/plain": [
              "'KAUDEVILLIANUGH?AOGHAJDBN'"
            ]
          },
          "execution_count": 96,
          "metadata": {},
          "output_type": "execute_result"
        }
      ],
      "source": [
        "# question 5\n",
        "max(message.str.split(' ').sum(), key=len).upper()"
      ]
    },
    {
      "cell_type": "code",
      "execution_count": 110,
      "metadata": {},
      "outputs": [
        {
          "data": {
            "text/plain": [
              "Series([], Name: Word, dtype: object)"
            ]
          },
          "execution_count": 110,
          "metadata": {},
          "output_type": "execute_result"
        }
      ],
      "source": [
        "# question 6\n",
        "message[message.apply(lambda x: bool(re.match(r\"^m.*z$\",x)))]"
      ]
    },
    {
      "cell_type": "markdown",
      "metadata": {
        "id": "l3iJnnCJQOh7"
      },
      "source": [
        "\n",
        "\n",
        "## Decode a message\n",
        "\n",
        "Complete the following steps to decode the message.  \n",
        "\n",
        "1. Remove any spaces before or after each word.\n",
        "2. Any time you see the word \"ugh\", with any number of h's, followed by a punctuation mark, delete this.\n",
        "3. No word should be longer than 16 characters. Drop all extra characters beyond 13 off the end of each word.\n",
        "4. Replace all instances of exactly 2 a's with exactly 2 e's.\n",
        "5. Replace all z's with t's.\n",
        "6. Every word that ends in b, change that to a y.  *Hint: look out for punctuation!*\n",
        "7. Every word that starts with k, change that to a v.  *Hint: look out for capitalization!*\n",
        "8. Use `.join()` to recombine all your words into a message.\n",
        "9. Find the movie this quote is from."
      ]
    },
    {
      "cell_type": "code",
      "execution_count": 116,
      "metadata": {
        "id": "RRfjUzxMQQ5j"
      },
      "outputs": [
        {
          "data": {
            "text/plain": [
              "0             Koila!\n",
              "1                 In\n",
              "2              kiew,\n",
              "3                  a\n",
              "4             humble\n",
              "           ...      \n",
              "122              you\n",
              "123          mabugh.\n",
              "124       ughhh?call\n",
              "125    meugh.ughhhh!\n",
              "126               K.\n",
              "Name: Word, Length: 127, dtype: object"
            ]
          },
          "execution_count": 116,
          "metadata": {},
          "output_type": "execute_result"
        }
      ],
      "source": [
        "# Part 1\n",
        "newmessage1 = message.apply(lambda x: x.strip())\n",
        "newmessage1"
      ]
    },
    {
      "cell_type": "code",
      "execution_count": 118,
      "metadata": {},
      "outputs": [
        {
          "data": {
            "text/plain": [
              "0      Koila!\n",
              "1          In\n",
              "2       kiew,\n",
              "3           a\n",
              "4      humble\n",
              "        ...  \n",
              "122       you\n",
              "123       mab\n",
              "124      call\n",
              "125        me\n",
              "126        K.\n",
              "Name: Word, Length: 127, dtype: object"
            ]
          },
          "execution_count": 118,
          "metadata": {},
          "output_type": "execute_result"
        }
      ],
      "source": [
        "#Part 2\n",
        "newmessage2 = newmessage1.apply(lambda x: re.sub('ughh*[!\"#$%&\\'()*+,-./:;<=>?@\\\\^_`{|}~]','',x))\n",
        "newmessage2"
      ]
    },
    {
      "cell_type": "code",
      "execution_count": 120,
      "metadata": {},
      "outputs": [
        {
          "data": {
            "text/plain": [
              "0      Koila!\n",
              "1          In\n",
              "2       kiew,\n",
              "3           a\n",
              "4      humble\n",
              "        ...  \n",
              "122       you\n",
              "123       mab\n",
              "124      call\n",
              "125        me\n",
              "126        K.\n",
              "Name: Word, Length: 127, dtype: object"
            ]
          },
          "execution_count": 120,
          "metadata": {},
          "output_type": "execute_result"
        }
      ],
      "source": [
        "#Part 3\n",
        "newmessage3 = newmessage2.apply(lambda x: x[:13])\n",
        "newmessage3"
      ]
    },
    {
      "cell_type": "code",
      "execution_count": 121,
      "metadata": {},
      "outputs": [
        {
          "data": {
            "text/plain": [
              "0      Koila!\n",
              "1          In\n",
              "2       kiew,\n",
              "3           a\n",
              "4      humble\n",
              "        ...  \n",
              "122       you\n",
              "123       mab\n",
              "124      call\n",
              "125        me\n",
              "126        K.\n",
              "Name: Word, Length: 127, dtype: object"
            ]
          },
          "execution_count": 121,
          "metadata": {},
          "output_type": "execute_result"
        }
      ],
      "source": [
        "#Part 4\n",
        "newmessage4 = newmessage3.apply(lambda x: re.sub(r\"aa\", \"ee\", x))\n",
        "newmessage4\n"
      ]
    },
    {
      "cell_type": "code",
      "execution_count": 122,
      "metadata": {},
      "outputs": [
        {
          "data": {
            "text/plain": [
              "0      Koila!\n",
              "1          In\n",
              "2       kiew,\n",
              "3           a\n",
              "4      humble\n",
              "        ...  \n",
              "122       you\n",
              "123       mab\n",
              "124      call\n",
              "125        me\n",
              "126        K.\n",
              "Name: Word, Length: 127, dtype: object"
            ]
          },
          "execution_count": 122,
          "metadata": {},
          "output_type": "execute_result"
        }
      ],
      "source": [
        "#Part 5\n",
        "newmessage5 = newmessage4.apply(lambda x: re.sub(r\"z\", \"t\", x))\n",
        "newmessage5"
      ]
    },
    {
      "cell_type": "code",
      "execution_count": 130,
      "metadata": {},
      "outputs": [
        {
          "data": {
            "text/plain": [
              "0      Koila!\n",
              "1          In\n",
              "2       kiew,\n",
              "3           a\n",
              "4      humble\n",
              "        ...  \n",
              "122       you\n",
              "123       may\n",
              "124      call\n",
              "125        me\n",
              "126        K.\n",
              "Name: Word, Length: 127, dtype: object"
            ]
          },
          "execution_count": 130,
          "metadata": {},
          "output_type": "execute_result"
        }
      ],
      "source": [
        "#Part 6\n",
        "newmessage6 = newmessage5.apply(lambda x: re.sub(r\"b(?=[!#$%&\\'()*+,-./:;<=>?@\\\\^_`{|}~]$)\",\"y\",x))\n",
        "newmessage6 = newmessage6.apply(lambda x: re.sub(r\"b$\",\"y\",x))\n",
        "newmessage6"
      ]
    },
    {
      "cell_type": "code",
      "execution_count": 131,
      "metadata": {},
      "outputs": [
        {
          "data": {
            "text/plain": [
              "0      voila!\n",
              "1          In\n",
              "2       view,\n",
              "3           a\n",
              "4      humble\n",
              "        ...  \n",
              "122       you\n",
              "123       may\n",
              "124      call\n",
              "125        me\n",
              "126        v.\n",
              "Name: Word, Length: 127, dtype: object"
            ]
          },
          "execution_count": 131,
          "metadata": {},
          "output_type": "execute_result"
        }
      ],
      "source": [
        "#Part 7\n",
        "newmessage7 = newmessage6.apply(lambda x: re.sub(r\"^[kK]\",\"v\",x))\n",
        "newmessage7"
      ]
    },
    {
      "cell_type": "code",
      "execution_count": 133,
      "metadata": {},
      "outputs": [
        {
          "data": {
            "text/plain": [
              "'voila! In view, a humble vaudevilliana veteran, cast vicariously as both victim and villain by the vicissitudes of fate. This visage, no mere veneer of vanity, is a vestige of the vox populi now vacant, vanished. However, this valorous visitation of a bygone vexation stands vivified, and has vowed to vanquish these venal and virulent vermin, van guarding vice and vouchsafing the violently vicious and voracious violation of volition. The only verdict is vengeance; a vendetta, held as a votive not in vain, for the value and veracity of such shall one day vindicate the vigilant and the virtuous. verily this vichyssoise of verbiage veers most verbose, so let me simply add that its my very good honour to meet you and you may call me v.'"
            ]
          },
          "execution_count": 133,
          "metadata": {},
          "output_type": "execute_result"
        }
      ],
      "source": [
        "#Part 8\n",
        "\" \".join(newmessage7)"
      ]
    },
    {
      "cell_type": "markdown",
      "metadata": {},
      "source": [
        "Part 9\n",
        "V for Vendetta"
      ]
    }
  ],
  "metadata": {
    "colab": {
      "provenance": []
    },
    "kernelspec": {
      "display_name": "base",
      "language": "python",
      "name": "python3"
    },
    "language_info": {
      "codemirror_mode": {
        "name": "ipython",
        "version": 3
      },
      "file_extension": ".py",
      "mimetype": "text/x-python",
      "name": "python",
      "nbconvert_exporter": "python",
      "pygments_lexer": "ipython3",
      "version": "3.12.4"
    }
  },
  "nbformat": 4,
  "nbformat_minor": 0
}
